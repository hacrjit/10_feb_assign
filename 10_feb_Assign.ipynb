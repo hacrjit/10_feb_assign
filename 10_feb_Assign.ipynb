{
 "cells": [
  {
   "cell_type": "markdown",
   "id": "427aa7c6",
   "metadata": {},
   "source": [
    "## Question No. 1"
   ]
  },
  {
   "cell_type": "markdown",
   "id": "ace77c1b",
   "metadata": {},
   "source": [
    "Open() function is used to open a file.\n",
    "\n",
    "#### Different modes of opeaning a files are :\n",
    "    1. \"r\"(Read) mode : This is the default mode when mode is not specified. it opens file for reading\n",
    "    2. \"w\"(Write) mode : This mode open the file for writing. if file already exist this will erase all the existing data before writing. if file doesn't exist then a new file is created.\n",
    "    3. \"a\"(Append) mode : It is used for adding data at the end. if file doesn't exist thent it will create a new file.\n",
    "    4. \"x\"(Execlusive creation) mode : This is known as  mode. It opens the files for writing only if it doesn't already exist.\n",
    "    5. \"b\"(binary) mode : Used to open file in binary mode.\n",
    "    6. \"t\"(Text) mode : This is default mode for opening a file. Used for test files"
   ]
  },
  {
   "cell_type": "markdown",
   "id": "adc2e608",
   "metadata": {},
   "source": [
    "## Question No. 2"
   ]
  },
  {
   "cell_type": "markdown",
   "id": "dae1ac72",
   "metadata": {},
   "source": [
    "close() function is used to close a file that has been opened using \"open()\" function.\n",
    "\n",
    "It is important to close a file to save the resources and avaid data corruption."
   ]
  },
  {
   "cell_type": "markdown",
   "id": "6075b617",
   "metadata": {},
   "source": [
    "## Question No. 3"
   ]
  },
  {
   "cell_type": "code",
   "execution_count": 64,
   "id": "3b023794",
   "metadata": {},
   "outputs": [
    {
     "name": "stdout",
     "output_type": "stream",
     "text": [
      "I want to become a Data Scientist\n"
     ]
    }
   ],
   "source": [
    "file = open(\"text\",\"w\")\n",
    "\n",
    "file.write(\"I want to become a Data Scientist\")\n",
    "\n",
    "file.close()\n",
    "\n",
    "file = open(\"text\",\"r\")\n",
    "file_content = file.read()\n",
    "\n",
    "print(file_content)"
   ]
  },
  {
   "cell_type": "markdown",
   "id": "9ac16a24",
   "metadata": {},
   "source": [
    "## Question No. 4"
   ]
  },
  {
   "cell_type": "markdown",
   "id": "1ef0fa92",
   "metadata": {},
   "source": [
    "read() : used to read the entire contents of a file as a single string.\n",
    "    "
   ]
  },
  {
   "cell_type": "code",
   "execution_count": 65,
   "id": "062e6d28",
   "metadata": {},
   "outputs": [
    {
     "data": {
      "text/plain": [
       "'this is added in write function\\n nothing special'"
      ]
     },
     "execution_count": 65,
     "metadata": {},
     "output_type": "execute_result"
    }
   ],
   "source": [
    "file = open(\"best.txt\",\"r\") # best.txt is a multiline fil\n",
    "file.read()"
   ]
  },
  {
   "cell_type": "markdown",
   "id": "a9bfb8bb",
   "metadata": {},
   "source": [
    "readline() : used to read a single line from a file. It read the next line from the current file position."
   ]
  },
  {
   "cell_type": "code",
   "execution_count": 66,
   "id": "538c62f5",
   "metadata": {},
   "outputs": [
    {
     "data": {
      "text/plain": [
       "'this is added in write function\\n'"
      ]
     },
     "execution_count": 66,
     "metadata": {},
     "output_type": "execute_result"
    }
   ],
   "source": [
    "file = open(\"best.txt\",\"r\")   \n",
    "file.readline()"
   ]
  },
  {
   "cell_type": "code",
   "execution_count": 67,
   "id": "957d6853",
   "metadata": {},
   "outputs": [
    {
     "data": {
      "text/plain": [
       "' nothing special'"
      ]
     },
     "execution_count": 67,
     "metadata": {},
     "output_type": "execute_result"
    }
   ],
   "source": [
    "file.readline()"
   ]
  },
  {
   "cell_type": "markdown",
   "id": "a00c8b13",
   "metadata": {},
   "source": [
    "readlines() : used to read all the lines from a file and retuens them as a list of strings."
   ]
  },
  {
   "cell_type": "code",
   "execution_count": 68,
   "id": "fa1bd77f",
   "metadata": {},
   "outputs": [
    {
     "data": {
      "text/plain": [
       "['this is added in write function\\n', ' nothing special']"
      ]
     },
     "execution_count": 68,
     "metadata": {},
     "output_type": "execute_result"
    }
   ],
   "source": [
    "file = open(\"best.txt\",\"r\")\n",
    "file.readlines()"
   ]
  },
  {
   "cell_type": "markdown",
   "id": "d5ec5cc0",
   "metadata": {},
   "source": [
    "## Question No. 5"
   ]
  },
  {
   "cell_type": "markdown",
   "id": "c5d40833",
   "metadata": {},
   "source": [
    "with statement is used with open() to close the file when we leave the block.\n",
    "\n",
    "This helps to utilise resources by closing the file and helps to avoid errors."
   ]
  },
  {
   "cell_type": "markdown",
   "id": "137533e6",
   "metadata": {},
   "source": [
    "## Question No. 6"
   ]
  },
  {
   "cell_type": "markdown",
   "id": "371a877d",
   "metadata": {},
   "source": [
    "write() : Used to write a string of data to a file. It takes string as an argument and append the string at the end of the file. If file does not exist it is created."
   ]
  },
  {
   "cell_type": "code",
   "execution_count": 69,
   "id": "1da930d5",
   "metadata": {},
   "outputs": [],
   "source": [
    "file = open(\"line.txt\",\"w\")\n",
    "file.write(\"This is inside write function\")\n",
    "file.close()"
   ]
  },
  {
   "cell_type": "markdown",
   "id": "7bca830e",
   "metadata": {},
   "source": [
    "writelines() : used to write multiple lines of data to a file. it takes an iterable as an argument, such as list or a tuple where each element represent a line of text"
   ]
  },
  {
   "cell_type": "code",
   "execution_count": 70,
   "id": "2dcdb45b",
   "metadata": {},
   "outputs": [],
   "source": [
    "file = open(\"lines.txt\",\"w\")\n",
    "lines = [\"abc\",\"def\",\"ghi\"]\n",
    "file.writelines(lines)\n",
    "file.close()"
   ]
  }
 ],
 "metadata": {
  "kernelspec": {
   "display_name": "Python 3 (ipykernel)",
   "language": "python",
   "name": "python3"
  },
  "language_info": {
   "codemirror_mode": {
    "name": "ipython",
    "version": 3
   },
   "file_extension": ".py",
   "mimetype": "text/x-python",
   "name": "python",
   "nbconvert_exporter": "python",
   "pygments_lexer": "ipython3",
   "version": "3.9.7"
  }
 },
 "nbformat": 4,
 "nbformat_minor": 5
}
